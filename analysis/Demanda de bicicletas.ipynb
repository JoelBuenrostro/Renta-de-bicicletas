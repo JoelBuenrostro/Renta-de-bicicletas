{
 "metadata": {
  "language_info": {
   "codemirror_mode": {
    "name": "ipython",
    "version": 3
   },
   "file_extension": ".py",
   "mimetype": "text/x-python",
   "name": "python",
   "nbconvert_exporter": "python",
   "pygments_lexer": "ipython3",
   "version": 3
  },
  "orig_nbformat": 2
 },
 "nbformat": 4,
 "nbformat_minor": 2,
 "cells": [
  {
   "source": [
    "# Demanda de alquiler de bicicletas utilizando coeficientes"
   ],
   "cell_type": "markdown",
   "metadata": {}
  },
  {
   "source": [
    "Este conjunto de datos contiene el recuento diario y por hora de bicicletas de alquiler entre los años 2011 y 2012 en el sistema de bicicletas compartidas de Capital Bikeshare con la información meteorológica y estacional correspondiente."
   ],
   "cell_type": "markdown",
   "metadata": {}
  },
  {
   "source": [
    "# Atributos del set de datos"
   ],
   "cell_type": "markdown",
   "metadata": {}
  },
  {
   "source": [
    "Tanto hour.csv como day.csv tienen los siguientes campos, excepto hr que no está disponible en day.csv"
   ],
   "cell_type": "markdown",
   "metadata": {}
  },
  {
   "source": [
    "- **instant**: indice\n",
    "- **dteday** : fecha\n",
    "- **season** : temporada (1: primavera, 2: verano, 3: otoño, 4: invierno)\n",
    "- **yr** : año (0: 2011, 1:2012)\n",
    "- **mnth** : mes ( 1 to 12)\n",
    "- **hr** : hora (0 to 23)\n",
    "- **holiday** : el día es festivo o no\n",
    "- **weekday** : dia de la semana\n",
    "- **workingday** : si el día no es ni fin de semana ni festivo es 1, en caso contrario es 0.\n",
    "+ **weathersit** : \n",
    "    - 1: Despejado, Pocas nubes, Parcialmente nublado, Parcialmente nublado\n",
    "     - 2: Niebla + Nublado, Niebla + Nubes rotas, Niebla + Pocas nubes, Niebla\n",
    "     - 3: Nieve ligera, Lluvia ligera + Tormenta + Nubes dispersas, Lluvia ligera + Nubes dispersas\n",
    "     - 4: Lluvia intensa + Paletas de hielo + Tormenta + Niebla, Nieve + Niebla\n",
    "- **temp** : Temperatura normalizada en grados Celsius. Los valores se obtienen mediante (t-t_min) / (t_max-t_min), t_min = -8, t_max = + 39 (solo en escala horaria)\n",
    "- **atemp**: Temperatura de sensación normalizada en grados Celsius. Los valores se obtienen mediante (t-t_min) / (t_max-t_min), t_min = -16, t_max = + 50 (solo en escala horaria)\n",
    "- **hum**: Humedad normalizada. Los valores se dividen en 100 (máx.)\n",
    "- **windspeed**: Velocidad del viento normalizada. Los valores se dividen en 67 (máx.)\n",
    "- **casual**: Conteo de usuarios ocasionales\n",
    "- **registered**: recuento de usuarios registrados\n",
    "- **cnt**: recuento del total de bicicletas rentadas, incluidas las informales y registradas"
   ],
   "cell_type": "markdown",
   "metadata": {}
  }
 ]
}